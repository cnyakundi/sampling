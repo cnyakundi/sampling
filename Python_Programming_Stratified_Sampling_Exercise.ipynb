{
  "nbformat": 4,
  "nbformat_minor": 0,
  "metadata": {
    "colab": {
      "name": "Python Programming: Stratified Sampling Exercise",
      "provenance": [],
      "collapsed_sections": [
        "c_l7pRnbX4Ws",
        "xIswFcWu4X-M"
      ],
      "include_colab_link": true
    },
    "kernelspec": {
      "name": "python3",
      "display_name": "Python 3"
    }
  },
  "cells": [
    {
      "cell_type": "markdown",
      "metadata": {
        "id": "view-in-github",
        "colab_type": "text"
      },
      "source": [
        "<a href=\"https://colab.research.google.com/github/cnyakundi/sampling/blob/master/Python_Programming_Stratified_Sampling_Exercise.ipynb\" target=\"_parent\"><img src=\"https://colab.research.google.com/assets/colab-badge.svg\" alt=\"Open In Colab\"/></a>"
      ]
    },
    {
      "cell_type": "markdown",
      "metadata": {
        "id": "xyMO0fjEat9e"
      },
      "source": [
        "<font color=\"green\">*To start working on this notebook, or any other notebook that we will use in the Moringa Data Science Course, we will need to save our own copy of it. We can do this by clicking File > Save a Copy in Drive. We will then be able to make edits to our own copy of this notebook.*</font>"
      ]
    },
    {
      "cell_type": "markdown",
      "metadata": {
        "id": "roBP_xMEBpqE"
      },
      "source": [
        "# Python Programming: Stratified Sampling Exercise"
      ]
    },
    {
      "cell_type": "markdown",
      "metadata": {
        "id": "c_l7pRnbX4Ws"
      },
      "source": [
        "## Example"
      ]
    },
    {
      "cell_type": "markdown",
      "metadata": {
        "id": "2g6eBvTuD1-M"
      },
      "source": [
        "We are going to use the example we looked at in the overview. Our dataset is comprised of different heights of Moringa School students. It has 10,000 entries whereby 60% are female and 40% are Male. We are going to perform stratified sampling on this population so that we can get a sample of 1000 students which has the same proportion as the population."
      ]
    },
    {
      "cell_type": "markdown",
      "metadata": {
        "id": "RM4m989jCC9m"
      },
      "source": [
        "**Import relevant Libraries**"
      ]
    },
    {
      "cell_type": "code",
      "metadata": {
        "id": "SqwTmeFQZqp7"
      },
      "source": [
        "import pandas as pd\n"
      ],
      "execution_count": 2,
      "outputs": []
    },
    {
      "cell_type": "markdown",
      "metadata": {
        "id": "Z02bhgrMCQdc"
      },
      "source": [
        "**Load the Dataset**\n",
        "\n",
        "Here is the dataset we are going to use in this example.[Dataset Download](https://drive.google.com/file/d/1ODcSRSs_isRKCAShFwnMrXdcphed9kYn/view?usp=sharing)"
      ]
    },
    {
      "cell_type": "code",
      "metadata": {
        "id": "e61iXAYnaNqV",
        "colab": {
          "base_uri": "https://localhost:8080/",
          "height": 424
        },
        "outputId": "a8c77fb0-4cda-416c-9cb4-eca13e13240a"
      },
      "source": [
        "# Load the data into a panda dataframe\n",
        "data= pd.read_csv('Gender_heights.csv')\n",
        "\n",
        "# Check out the data\n",
        "data\n",
        "\n"
      ],
      "execution_count": 3,
      "outputs": [
        {
          "output_type": "execute_result",
          "data": {
            "text/html": [
              "<div>\n",
              "<style scoped>\n",
              "    .dataframe tbody tr th:only-of-type {\n",
              "        vertical-align: middle;\n",
              "    }\n",
              "\n",
              "    .dataframe tbody tr th {\n",
              "        vertical-align: top;\n",
              "    }\n",
              "\n",
              "    .dataframe thead th {\n",
              "        text-align: right;\n",
              "    }\n",
              "</style>\n",
              "<table border=\"1\" class=\"dataframe\">\n",
              "  <thead>\n",
              "    <tr style=\"text-align: right;\">\n",
              "      <th></th>\n",
              "      <th>gender</th>\n",
              "      <th>ht</th>\n",
              "    </tr>\n",
              "  </thead>\n",
              "  <tbody>\n",
              "    <tr>\n",
              "      <th>0</th>\n",
              "      <td>F</td>\n",
              "      <td>55.398043</td>\n",
              "    </tr>\n",
              "    <tr>\n",
              "      <th>1</th>\n",
              "      <td>F</td>\n",
              "      <td>64.975468</td>\n",
              "    </tr>\n",
              "    <tr>\n",
              "      <th>2</th>\n",
              "      <td>F</td>\n",
              "      <td>70.591667</td>\n",
              "    </tr>\n",
              "    <tr>\n",
              "      <th>3</th>\n",
              "      <td>F</td>\n",
              "      <td>63.574479</td>\n",
              "    </tr>\n",
              "    <tr>\n",
              "      <th>4</th>\n",
              "      <td>F</td>\n",
              "      <td>62.535298</td>\n",
              "    </tr>\n",
              "    <tr>\n",
              "      <th>...</th>\n",
              "      <td>...</td>\n",
              "      <td>...</td>\n",
              "    </tr>\n",
              "    <tr>\n",
              "      <th>9995</th>\n",
              "      <td>M</td>\n",
              "      <td>91.485240</td>\n",
              "    </tr>\n",
              "    <tr>\n",
              "      <th>9996</th>\n",
              "      <td>M</td>\n",
              "      <td>94.842755</td>\n",
              "    </tr>\n",
              "    <tr>\n",
              "      <th>9997</th>\n",
              "      <td>M</td>\n",
              "      <td>98.096696</td>\n",
              "    </tr>\n",
              "    <tr>\n",
              "      <th>9998</th>\n",
              "      <td>M</td>\n",
              "      <td>91.478957</td>\n",
              "    </tr>\n",
              "    <tr>\n",
              "      <th>9999</th>\n",
              "      <td>M</td>\n",
              "      <td>88.849197</td>\n",
              "    </tr>\n",
              "  </tbody>\n",
              "</table>\n",
              "<p>10000 rows × 2 columns</p>\n",
              "</div>"
            ],
            "text/plain": [
              "     gender         ht\n",
              "0         F  55.398043\n",
              "1         F  64.975468\n",
              "2         F  70.591667\n",
              "3         F  63.574479\n",
              "4         F  62.535298\n",
              "...     ...        ...\n",
              "9995      M  91.485240\n",
              "9996      M  94.842755\n",
              "9997      M  98.096696\n",
              "9998      M  91.478957\n",
              "9999      M  88.849197\n",
              "\n",
              "[10000 rows x 2 columns]"
            ]
          },
          "metadata": {},
          "execution_count": 3
        }
      ]
    },
    {
      "cell_type": "code",
      "metadata": {
        "id": "9SDKk4eUGrx_",
        "colab": {
          "base_uri": "https://localhost:8080/"
        },
        "outputId": "714a097c-0837-4ec4-c933-2e7764db40c6"
      },
      "source": [
        "# Now we will confirm how many Female students and Male students are there in our dataset.\n",
        "# To achieve this we will use pandas .value_count() method. This method outputs the number of times a value appears in a column.\n",
        "data['gender'].value_counts()"
      ],
      "execution_count": 4,
      "outputs": [
        {
          "output_type": "execute_result",
          "data": {
            "text/plain": [
              "F    6000\n",
              "M    4000\n",
              "Name: gender, dtype: int64"
            ]
          },
          "metadata": {},
          "execution_count": 4
        }
      ]
    },
    {
      "cell_type": "markdown",
      "metadata": {
        "id": "_u_K93F9KrS-"
      },
      "source": [
        "Now that we have confirmed that our popluation follows the correct proportion, we are going to first create a random sample of 1000 students without stratification just to see how it behaves."
      ]
    },
    {
      "cell_type": "code",
      "metadata": {
        "id": "-tWJJwM7LJn6",
        "colab": {
          "base_uri": "https://localhost:8080/"
        },
        "outputId": "1e9e4acc-420f-4f7a-cc80-78095cb30bf5"
      },
      "source": [
        "# To create a random sample from a dataframe we use the pandas sample method. You can read more about it here.https://pandas.pydata.org/pandas-docs/stable/reference/api/pandas.DataFrame.sample.html\n",
        "# We pass in an argument called frac which symbolises the fraction of the population we want to use as our sample\n",
        "\n",
        "# Non stratified sample\n",
        "non_strat_output = data.sample(frac=0.1) \n",
        "\n",
        "# check the proportion of the non_stratified sample\n",
        "print(non_strat_output['gender'].value_counts())"
      ],
      "execution_count": 15,
      "outputs": [
        {
          "output_type": "stream",
          "name": "stdout",
          "text": [
            "F    594\n",
            "M    406\n",
            "Name: gender, dtype: int64\n"
          ]
        }
      ]
    },
    {
      "cell_type": "markdown",
      "metadata": {
        "id": "9KY2PgCAUsa5"
      },
      "source": [
        "Run the code several times, taking note of the proportion of Female and Male. What do you notice?\n",
        "\n",
        "When you run it several time, you'll notice that the proportion varies each time. Although it ranges closely to our desired proportion, its not quite the 60-40 proportion we want. To remedy it, this is where stratified sampling comes in handy.\n",
        "\n",
        "Let's us create a stratified random sample and see how it behaves"
      ]
    },
    {
      "cell_type": "code",
      "metadata": {
        "id": "Mgxm7zGZWHj5",
        "cellView": "both",
        "colab": {
          "base_uri": "https://localhost:8080/"
        },
        "outputId": "d3869659-1b1e-4da6-c606-5d6e846d7e47"
      },
      "source": [
        "\n",
        "# To create a stratified random sample we'll use pandas groupBy method. Basically what the method does is that it splits our dataset into sets and then applies a function on each subset.\n",
        "# In our case, we are going to applies a function that puts each subset into a random sample with a size of 100. The beauty about this method is that it strictly maintains the populations proportion.\n",
        "\n",
        "# Stratified sample\n",
        "strat_output = data.groupby('gender', group_keys=False).apply(lambda grouped_subset : grouped_subset.sample(frac=0.1))\n",
        "\n",
        "# proportion of the non_stratified sample\n",
        "print(strat_output['gender'].value_counts())\n",
        "\n",
        "# Check the stratified output\n",
        "print(strat_output)\n",
        "\n",
        " "
      ],
      "execution_count": 78,
      "outputs": [
        {
          "output_type": "stream",
          "name": "stdout",
          "text": [
            "F    600\n",
            "M    400\n",
            "Name: gender, dtype: int64\n",
            "     gender         ht\n",
            "2478      F  56.645085\n",
            "652       F  63.938224\n",
            "1920      F  54.547499\n",
            "4388      F  61.610129\n",
            "676       F  58.972310\n",
            "...     ...        ...\n",
            "7199      M  86.601555\n",
            "7519      M  86.029192\n",
            "8496      M  91.632898\n",
            "7316      M  85.236612\n",
            "7790      M  88.893293\n",
            "\n",
            "[1000 rows x 2 columns]\n"
          ]
        }
      ]
    },
    {
      "cell_type": "markdown",
      "metadata": {
        "id": "xIswFcWu4X-M"
      },
      "source": [
        "## <font color=\"green\">Challenges</font>"
      ]
    },
    {
      "cell_type": "code",
      "metadata": {
        "id": "KKKNoN-pYBAa",
        "colab": {
          "base_uri": "https://localhost:8080/"
        },
        "outputId": "65f4b575-e839-453e-e705-5084771be710"
      },
      "source": [
        "# Challenge 1\n",
        "# ---\n",
        "# Question: Moringa school is doing an analysis on how the students perform based on the different programmes that they offer.\n",
        "# Given a dataset of 10000 students and you are told that 50% are Core students, 25% are Prep students and 25% are Pre-prep students. \n",
        "# Also in the dataset, 60% of the students are Female and the rest are Male. \n",
        "# You are tasked with creating a stratified random sample that represents that population.\n",
        "\n",
        "df=pd.read_csv('Moringa_Students_heights.csv')\n",
        "df.head()\n",
        "\n",
        "grouped_by_gender_and_programmer= df.groupby(['programme','gender']).count()\n",
        "\n",
        "final_output=grouped_by_gender_and_programmer.apply(lambda my_sample: my_sample.sample(frac=0.1))\n",
        "\n",
        "print(final_output)\n",
        "\n",
        "\n",
        "\n",
        "\n"
      ],
      "execution_count": 57,
      "outputs": [
        {
          "output_type": "stream",
          "name": "stdout",
          "text": [
            "                    ht\n",
            "programme gender      \n",
            "Pre-prep  F       1504\n"
          ]
        }
      ]
    },
    {
      "cell_type": "code",
      "metadata": {
        "id": "A3JYY6qkYOXt",
        "colab": {
          "base_uri": "https://localhost:8080/"
        },
        "outputId": "e87893b2-a734-4857-974e-fdc47d9ace42"
      },
      "source": [
        "# Challenge 2\n",
        "# ---\n",
        "# Question: A wine company would like to perform some analysis on a variety of new red wines. \n",
        "# Select a stratified sample based on wine quality from the given dataset.\n",
        "# ---\n",
        "url = 'http://bit.ly/RedWinesDataset'\n",
        "df=pd.read_csv(url)\n",
        "\n",
        "df.head()\n",
        "\n",
        "final=df.groupby(df['quality']).apply(lambda our_wines: our_wines.sample(frac=0.1))\n",
        "print(final)\n",
        "\n",
        "final_2=df['quality'].sample(frac=0.1)\n",
        "print(final_2)\n",
        "\n"
      ],
      "execution_count": 81,
      "outputs": [
        {
          "output_type": "stream",
          "name": "stdout",
          "text": [
            "              fixed acidity  volatile acidity  ...  alcohol  quality\n",
            "quality                                        ...                  \n",
            "3       690             7.4             1.185  ...     10.7        3\n",
            "4       1369            6.6             0.610  ...     10.4        4\n",
            "        830             7.5             0.685  ...     10.9        4\n",
            "        1124            6.5             0.580  ...     11.5        4\n",
            "        1235            6.0             0.330  ...     11.5        4\n",
            "...                     ...               ...  ...      ...      ...\n",
            "7       389             9.6             0.380  ...     10.0        7\n",
            "        1417            7.3             0.340  ...     12.1        7\n",
            "        978             7.0             0.400  ...     11.3        7\n",
            "8       1269            5.5             0.490  ...     14.0        8\n",
            "        1090           10.0             0.260  ...     11.8        8\n",
            "\n",
            "[160 rows x 12 columns]\n",
            "1295    5\n",
            "1206    7\n",
            "219     5\n",
            "1434    6\n",
            "23      5\n",
            "       ..\n",
            "797     7\n",
            "726     6\n",
            "1132    7\n",
            "543     6\n",
            "173     6\n",
            "Name: quality, Length: 160, dtype: int64\n"
          ]
        }
      ]
    },
    {
      "cell_type": "code",
      "metadata": {
        "id": "qY0aF-pJZzzs",
        "colab": {
          "base_uri": "https://localhost:8080/"
        },
        "outputId": "09cd4368-ef47-4e52-bfdc-77da810aec4d"
      },
      "source": [
        "# Challenge 3\n",
        "# ---\n",
        "# Question: You have been provided with a list of employees of a certain company with some details about their gender (male/female) \n",
        "# and their type of employment (full-time/part-time). The HR team wants to conduct a survey on the working condition \n",
        "# that will be representative of the general opinion without interviewing every employee. \n",
        "# They request you conduct stratified sampling before any analysis is done. \n",
        "# ---\n",
        "url = \"http://bit.ly/StratifiedEmployeeDataset\"\n",
        "\n",
        "df=pd.read_excel(url)\n",
        "\n",
        "df.head()\n",
        "\n",
        "final_df=df.groupby('Gender').apply(lambda my_data : my_data.sample(frac=0.1))\n",
        "\n",
        "print(final_df)\n",
        "\n",
        "\n"
      ],
      "execution_count": 109,
      "outputs": [
        {
          "output_type": "stream",
          "name": "stdout",
          "text": [
            "          Employee  Gender       Time Strata\n",
            "Gender                                      \n",
            "Female 30    Em031  Female  Full-time     FF\n",
            "       69    Em070  Female  Part-time     FP\n",
            "       96    Em097  Female  Full-time     FF\n",
            "       95    Em096  Female  Part-time     FP\n",
            "Male   53    Em054    Male  Full-time     MF\n",
            "       26    Em027    Male  Full-time     MF\n",
            "       24    Em025    Male  Part-time     MP\n",
            "       15    Em016    Male  Part-time     MP\n",
            "       64    Em065    Male  Full-time     MF\n"
          ]
        }
      ]
    }
  ]
}